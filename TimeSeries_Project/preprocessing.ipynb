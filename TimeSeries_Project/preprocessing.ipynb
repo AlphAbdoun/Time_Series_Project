{
 "cells": [
  {
   "cell_type": "code",
   "execution_count": 9,
   "id": "8876be46-1f40-403c-b627-d5b4a97b9743",
   "metadata": {},
   "outputs": [],
   "source": [
    "import pandas as pd\n",
    "\n",
    "# Load your data\n",
    "df = pd.read_csv('train_data.csv')\n",
    "\n",
    "# Select rows from line 366 to 730 (inclusive)\n",
    "df_filtered = df.iloc[366:8035]\n",
    "\n",
    "# Save the filtered data to a new CSV file\n",
    "df_filtered.to_csv('continue.csv', index=False)\n"
   ]
  },
  {
   "cell_type": "code",
   "execution_count": null,
   "id": "22f3dce3-6144-4dac-98c8-23fe70f79905",
   "metadata": {},
   "outputs": [],
   "source": []
  }
 ],
 "metadata": {
  "kernelspec": {
   "display_name": "Python 3 (ipykernel)",
   "language": "python",
   "name": "python3"
  },
  "language_info": {
   "codemirror_mode": {
    "name": "ipython",
    "version": 3
   },
   "file_extension": ".py",
   "mimetype": "text/x-python",
   "name": "python",
   "nbconvert_exporter": "python",
   "pygments_lexer": "ipython3",
   "version": "3.11.8"
  }
 },
 "nbformat": 4,
 "nbformat_minor": 5
}
